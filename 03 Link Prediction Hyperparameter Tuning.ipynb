{
 "cells": [
  {
   "cell_type": "markdown",
   "metadata": {},
   "source": [
    "###  <div align=\"right\"> Name: Vipada Siripatanadilok No. 6020422001,Prasit Chulanutrakul No. 6120412007 </div> \n",
    "###  <div align=\"right\"> ชื่อ:วิภาดา สิริพัฒนดิลก No. 6020422001, ประสิทธิ์ จุฬานุตรกุล No. 6120412007 </div> "
   ]
  },
  {
   "cell_type": "markdown",
   "metadata": {},
   "source": [
    "# Library Loading"
   ]
  },
  {
   "cell_type": "code",
   "execution_count": 1,
   "metadata": {},
   "outputs": [
    {
     "name": "stderr",
     "output_type": "stream",
     "text": [
      "C:\\ProgramData\\Anaconda3\\lib\\site-packages\\statsmodels\\tools\\_testing.py:19: FutureWarning: pandas.util.testing is deprecated. Use the functions in the public API at pandas.testing instead.\n",
      "  import pandas.util.testing as tm\n"
     ]
    }
   ],
   "source": [
    "import seaborn as sns\n",
    "import matplotlib.pyplot as plt\n",
    "import numpy as np\n",
    "import pandas as pd\n",
    "%matplotlib inline\n",
    "sns.set()\n",
    "random_state = 77\n",
    "\n",
    "import pickle\n",
    "\n",
    "from sklearn.model_selection import GridSearchCV\n",
    "from sklearn.metrics import confusion_matrix, classification_report\n",
    "from sklearn.metrics import accuracy_score, f1_score, precision_score, recall_score\n",
    "\n",
    "from sklearn.neighbors import KNeighborsClassifier\n",
    "from sklearn.naive_bayes import GaussianNB\n",
    "from sklearn.tree import DecisionTreeClassifier\n",
    "from sklearn import svm\n",
    "from sklearn.linear_model import LogisticRegression\n",
    "from sklearn.ensemble import RandomForestClassifier\n",
    "from sklearn.ensemble import AdaBoostClassifier\n",
    "from sklearn.neural_network import MLPClassifier\n",
    "\n",
    "from xgboost import XGBClassifier\n",
    "\n",
    "from lightgbm import LGBMClassifier\n"
   ]
  },
  {
   "cell_type": "markdown",
   "metadata": {},
   "source": [
    "## 6. Hyperparameter Tuning\n",
    "ทำการ Tune Hyperparameter โดยกำหนด CV = 10 ด้วยโมเดลในรายการข้างล่าง เพื่อหา Parameter เหมาะสุด\n",
    "    - k-nearest neighbors\n",
    "    - Naive Bayes\n",
    "    - Decision Tree\n",
    "    - Support Vector Machine\n",
    "    - Logistic Regression\n",
    "    - Random Forest\n",
    "    - Ada Boost\n",
    "    - Neural Network"
   ]
  },
  {
   "cell_type": "code",
   "execution_count": null,
   "metadata": {},
   "outputs": [],
   "source": [
    "# List of Models\n",
    "model_list = {\n",
    "    'k-nearest neighbors':KNeighborsClassifier(),\n",
    "#     'Naive Bayes':GaussianNB(),\n",
    "#     'Decision Tree':DecisionTreeClassifier(random_state=random_state),\n",
    "#     'Support Vector Machine':svm.SVC(random_state=random_state),\n",
    "#     'Logistic Regression':LogisticRegression(random_state=random_state),\n",
    "#     'Random Forest':RandomForestClassifier(random_state=random_state),\n",
    "#     'Ada Boost':AdaBoostClassifier(random_state=random_state),\n",
    "#     'Neural Network':MLPClassifier(random_state=random_state)\n",
    "}\n",
    "\n",
    "model_param_grid = {\n",
    "    'k-nearest neighbors':{\n",
    "                    'Model__n_neighbors':(3,5,7,9)\n",
    "                    },\n",
    "    'Naive Bayes':{\n",
    "                    'Model__var_smoothing':(1e-9,0.5,1)\n",
    "                    },\n",
    "    'Decision Tree':{\n",
    "                    'Model__criterion':('gini', 'entropy'), \n",
    "                    'Model__max_depth':(None, 1, 3, 5, 7), \n",
    "                    'Model__min_samples_split':(2, 3, 4, 5),\n",
    "                    'Model__min_samples_leaf':(1, 2, 3, 4, 5),\n",
    "                    'Model__max_features':('auto', 'sqrt', 'log2')\n",
    "                    },\n",
    "    'Support Vector Machine':{\n",
    "                    'Model__kernel':('linear', 'rbf', 'poly'), \n",
    "                    'Model__C':(1, 5, 10),\n",
    "                    'Model__gamma':('scale', 'auto')\n",
    "                    },\n",
    "    'Logistic Regression':{\n",
    "                    'Model__penalty':('l1', 'l2'),\n",
    "                    'Model__fit_intercept':(True, False),\n",
    "                    'Model__solver':('liblinear',),\n",
    "                    'Model__C':(0.5, 1, 2, 5, 10, 100)\n",
    "                    },\n",
    "    'Random Forest':{\n",
    "                    'Model__n_estimators':(100, 150, 200),\n",
    "                    'Model__criterion':('gini', 'entropy'), \n",
    "                    'Model__max_depth':(None, 3, 5, 7), \n",
    "                    'Model__min_samples_split':(2, 3, 4),\n",
    "                    'Model__min_samples_leaf':(1, 2, 3),\n",
    "                    },\n",
    "    'Ada Boost':{\n",
    "                    'Model__n_estimators':(50, 100, 150, 200),\n",
    "                    'Model__learning_rate':(0.5, 1, 2),\n",
    "                    'Model__algorithm':('SAMME', 'SAMME.R' )\n",
    "                    },\n",
    "    'Neural Network':{\n",
    "                    'Model__hidden_layer_sizes':((100), (50, 50), (20, 20, 20)),\n",
    "                    'Model__activation':('logistic', 'tanh', 'relu'),\n",
    "                    'Model__solver':('lbfgs', 'sgd', 'adam'),\n",
    "                    'Model__batch_size':('auto', 15, 30),\n",
    "                    'Model__learning_rate':('constant', 'invscaling', 'adaptive'),\n",
    "                    'Model__learning_rate_init':(0.001, 0.01, 0.1)\n",
    "                     }\n",
    "}"
   ]
  },
  {
   "cell_type": "code",
   "execution_count": null,
   "metadata": {},
   "outputs": [],
   "source": [
    "# Create Pipelines\n",
    "pipeline_model_list = {}\n",
    "for model in model_list:\n",
    "    print(f'Created pipeline for {model}')\n",
    "    pipeline_model_list[model] =  create_pipeline(model_list[model])"
   ]
  },
  {
   "cell_type": "code",
   "execution_count": null,
   "metadata": {},
   "outputs": [],
   "source": [
    "gridsearch_model_list = {}\n",
    "for model in pipeline_model_list:\n",
    "    gridsearch_model_list[model] = GridSearchCV(pipeline_model_list[model], model_param_grid[model], \n",
    "                                                    cv =10 , error_score='raise', verbose=5, n_jobs=-1)\n",
    "    gridsearch_model_list[model].fit(X_train, y_train)\n",
    "    print(f'Finished Grid Search for {model}')"
   ]
  },
  {
   "cell_type": "code",
   "execution_count": null,
   "metadata": {},
   "outputs": [],
   "source": [
    "summary_result = []\n",
    "for model in gridsearch_model_list:\n",
    "    print(f'Validation Result for best parameters of {model}')\n",
    "    #print(gridsearch_model_list[model].cv_results_)\n",
    "    #print(gridsearch_model_list[model].best_estimator_)\n",
    "    print('\\nBest CV Accuracy: ',gridsearch_model_list[model].best_score_)\n",
    "    print('Best Parameters: ', gridsearch_model_list[model].best_params_)\n",
    "\n",
    "    y_pred = gridsearch_model_list[model].predict(X_test)\n",
    "    summary_result.append(evaluation(model, y_test, y_pred))\n",
    "    \n",
    "    print('\\n-- Confusion Martix --')\n",
    "    print(confusion_matrix(y_test,y_pred))\n",
    "    print('\\n-- Classification Report --')\n",
    "    print(classification_report(y_test, y_pred))\n",
    "    print('\\n')\n",
    "    \n",
    "summary_result_grid_search_df = pd.DataFrame(summary_result)"
   ]
  },
  {
   "cell_type": "code",
   "execution_count": null,
   "metadata": {},
   "outputs": [],
   "source": [
    "summary_result = []\n",
    "for model in gridsearch_model_list:\n",
    "    print(f'ฺฺฺ\\n----- Best parameters of {model} -----')\n",
    "    print('Best Parameters: ', gridsearch_model_list[model].best_params_)\n",
    "    print('Best Parameters: ', gridsearch_model_list[model].best_estimator_)"
   ]
  },
  {
   "cell_type": "markdown",
   "metadata": {},
   "source": [
    "### Summary Result of Predicting Test Set (Using the Best Hyperparameters from Grid Search)\n",
    "จะได้ผลลัพท์ของการทดสอบโมเดลด้วย Test Set กับโมเดลที่ Train ด้วย Parameter เหมาะสุดจากการ Grid Search ดังตารางสรุปด้านล่าง"
   ]
  },
  {
   "cell_type": "code",
   "execution_count": null,
   "metadata": {},
   "outputs": [],
   "source": [
    "col = ['MODEL','ACCURACY','PRECISION_1','PRECISION_2','PRECISION_3','RECALL_1','RECALL_2','RECALL_3','F1_1','F1_2','F1_3']\n",
    "summary_result_grid_search_df"
   ]
  },
  {
   "cell_type": "markdown",
   "metadata": {},
   "source": [
    "### สรุป"
   ]
  },
  {
   "cell_type": "code",
   "execution_count": null,
   "metadata": {},
   "outputs": [],
   "source": []
  }
 ],
 "metadata": {
  "environment": {
   "name": "common-cpu.m59",
   "type": "gcloud",
   "uri": "gcr.io/deeplearning-platform-release/base-cpu:m59"
  },
  "kernelspec": {
   "display_name": "Python 3",
   "language": "python",
   "name": "python3"
  },
  "language_info": {
   "codemirror_mode": {
    "name": "ipython",
    "version": 3
   },
   "file_extension": ".py",
   "mimetype": "text/x-python",
   "name": "python",
   "nbconvert_exporter": "python",
   "pygments_lexer": "ipython3",
   "version": "3.7.8"
  }
 },
 "nbformat": 4,
 "nbformat_minor": 4
}
